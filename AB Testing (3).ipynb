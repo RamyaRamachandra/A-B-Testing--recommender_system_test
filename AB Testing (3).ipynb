{
 "cells": [
  {
   "cell_type": "code",
   "execution_count": null,
   "metadata": {
    "scrolled": true
   },
   "outputs": [],
   "source": []
  },
  {
   "cell_type": "code",
   "execution_count": null,
   "metadata": {},
   "outputs": [],
   "source": []
  },
  {
   "cell_type": "code",
   "execution_count": null,
   "metadata": {},
   "outputs": [],
   "source": []
  },
  {
   "cell_type": "code",
   "execution_count": null,
   "metadata": {},
   "outputs": [],
   "source": []
  },
  {
   "cell_type": "code",
   "execution_count": null,
   "metadata": {},
   "outputs": [],
   "source": []
  },
  {
   "cell_type": "code",
   "execution_count": null,
   "metadata": {},
   "outputs": [],
   "source": []
  },
  {
   "cell_type": "code",
   "execution_count": null,
   "metadata": {},
   "outputs": [],
   "source": []
  },
  {
   "cell_type": "code",
   "execution_count": null,
   "metadata": {},
   "outputs": [],
   "source": []
  },
  {
   "cell_type": "code",
   "execution_count": null,
   "metadata": {},
   "outputs": [],
   "source": []
  },
  {
   "cell_type": "code",
   "execution_count": null,
   "metadata": {},
   "outputs": [],
   "source": []
  },
  {
   "cell_type": "code",
   "execution_count": null,
   "metadata": {},
   "outputs": [],
   "source": [
    "import pandas as pd\n",
    "import numpy as np\n",
    "np.seterr(divide='ignore', invalid='ignore')\n",
    "import matplotlib.pyplot as plt\n",
    "import seaborn as sns\n",
    "%matplotlib inline\n",
    "import plotly.graph_objs as go\n",
    "from scipy import stats\n",
    "import statsmodels.api as sm\n",
    "import warnings\n",
    "warnings.filterwarnings('ignore')"
   ]
  },
  {
   "cell_type": "code",
   "execution_count": null,
   "metadata": {},
   "outputs": [],
   "source": [
    "marketing_events = pd.read_csv('ab_project_marketing_events_us.csv')"
   ]
  },
  {
   "cell_type": "code",
   "execution_count": null,
   "metadata": {
    "scrolled": true
   },
   "outputs": [],
   "source": [
    "marketing_events.head()"
   ]
  },
  {
   "cell_type": "code",
   "execution_count": null,
   "metadata": {},
   "outputs": [],
   "source": [
    "marketing_events.info()"
   ]
  },
  {
   "cell_type": "code",
   "execution_count": null,
   "metadata": {},
   "outputs": [],
   "source": [
    "users = pd.read_csv('final_ab_new_users_upd_us.csv')"
   ]
  },
  {
   "cell_type": "code",
   "execution_count": null,
   "metadata": {},
   "outputs": [],
   "source": [
    "users.head()"
   ]
  },
  {
   "cell_type": "code",
   "execution_count": null,
   "metadata": {},
   "outputs": [],
   "source": [
    "users.info()"
   ]
  },
  {
   "cell_type": "code",
   "execution_count": null,
   "metadata": {},
   "outputs": [],
   "source": [
    "user_events = pd.read_csv('final_ab_events_upd_us.csv')"
   ]
  },
  {
   "cell_type": "code",
   "execution_count": null,
   "metadata": {},
   "outputs": [],
   "source": [
    "user_events.head()"
   ]
  },
  {
   "cell_type": "code",
   "execution_count": null,
   "metadata": {},
   "outputs": [],
   "source": [
    "user_events.info()"
   ]
  },
  {
   "cell_type": "code",
   "execution_count": null,
   "metadata": {},
   "outputs": [],
   "source": [
    "participants = pd.read_csv('final_ab_participants_upd_us.csv')"
   ]
  },
  {
   "cell_type": "code",
   "execution_count": null,
   "metadata": {},
   "outputs": [],
   "source": [
    "participants.head()"
   ]
  },
  {
   "cell_type": "code",
   "execution_count": null,
   "metadata": {},
   "outputs": [],
   "source": [
    "participants.info()"
   ]
  },
  {
   "cell_type": "markdown",
   "metadata": {},
   "source": [
    "## Data Preprocessing"
   ]
  },
  {
   "cell_type": "markdown",
   "metadata": {},
   "source": [
    "##### Marketing_events"
   ]
  },
  {
   "cell_type": "code",
   "execution_count": null,
   "metadata": {},
   "outputs": [],
   "source": [
    "#check for missing values in marketing_events\n",
    "marketing_events.isna().sum()"
   ]
  },
  {
   "cell_type": "code",
   "execution_count": null,
   "metadata": {},
   "outputs": [],
   "source": [
    "#check for duplicate values\n",
    "marketing_events.duplicated().sum()"
   ]
  },
  {
   "cell_type": "code",
   "execution_count": null,
   "metadata": {},
   "outputs": [],
   "source": [
    "#converting the datatypes\n",
    "marketing_events['start_dt'] = pd.to_datetime(marketing_events['start_dt'])\n",
    "marketing_events['finish_dt'] = pd.to_datetime(marketing_events['finish_dt'])\n",
    "marketing_events.info()"
   ]
  },
  {
   "cell_type": "markdown",
   "metadata": {},
   "source": [
    "We may be interested in the Christmas & New Year Promo and CIS New Year Gift Lottery as the coverage of the test is between 2020-12-07 and 2021-01-01."
   ]
  },
  {
   "cell_type": "markdown",
   "metadata": {},
   "source": [
    "##### Users"
   ]
  },
  {
   "cell_type": "code",
   "execution_count": null,
   "metadata": {},
   "outputs": [],
   "source": [
    "# check for missing values in users\n",
    "users.isna().sum()"
   ]
  },
  {
   "cell_type": "code",
   "execution_count": null,
   "metadata": {},
   "outputs": [],
   "source": [
    "#check for duplicate values\n",
    "users.duplicated().sum()"
   ]
  },
  {
   "cell_type": "code",
   "execution_count": null,
   "metadata": {},
   "outputs": [],
   "source": [
    "# Change the datatype of the column date_column to datetime\n",
    "users['first_date'] = pd.to_datetime(users['first_date'])\n",
    "users['region'] = users['region'].astype('category')\n",
    "users['device'] = users['device'].astype('category')\n",
    "users.info()"
   ]
  },
  {
   "cell_type": "code",
   "execution_count": null,
   "metadata": {},
   "outputs": [],
   "source": [
    "users.describe(include='all')"
   ]
  },
  {
   "cell_type": "markdown",
   "metadata": {},
   "source": [
    "If the technical description states that the date when they stopped taking up new users is 2020-12-21, but the data shows the last date as 2020-12-23, then there might be a discrepancy between the two. It's important to clarify and confirm the actual date when new user sign-ups were stopped."
   ]
  },
  {
   "cell_type": "code",
   "execution_count": null,
   "metadata": {},
   "outputs": [],
   "source": [
    "users['region'].value_counts()"
   ]
  },
  {
   "cell_type": "code",
   "execution_count": null,
   "metadata": {},
   "outputs": [],
   "source": [
    "# filter new_users by region and sign-up date\n",
    "eu_users = users[(users['region'] == 'EU') & (users['first_date'] >= '2020-12-07') & (users['first_date'] <= '2020-12-21')]\n",
    "\n",
    "# count the number of rows in the filtered dataframe\n",
    "num_eu_users = len(eu_users)\n",
    "num_users_pntg= round(num_eu_users * 0.15)\n",
    "num_eu_users, num_users_pntg"
   ]
  },
  {
   "cell_type": "markdown",
   "metadata": {},
   "source": [
    "In the technical description, expected number of test participants is 6000"
   ]
  },
  {
   "cell_type": "markdown",
   "metadata": {},
   "source": [
    "##### User_events"
   ]
  },
  {
   "cell_type": "code",
   "execution_count": null,
   "metadata": {},
   "outputs": [],
   "source": [
    "#check for missing values in user_events\n",
    "user_events.isna().sum()"
   ]
  },
  {
   "cell_type": "code",
   "execution_count": null,
   "metadata": {},
   "outputs": [],
   "source": [
    "user_events[pd.isnull(user_events).any(axis=1)]"
   ]
  },
  {
   "cell_type": "code",
   "execution_count": null,
   "metadata": {},
   "outputs": [],
   "source": [
    "#check for duplicate values\n",
    "user_events.duplicated().sum()"
   ]
  },
  {
   "cell_type": "code",
   "execution_count": null,
   "metadata": {},
   "outputs": [],
   "source": [
    "# Coverting the datatypes\n",
    "user_events['event_dt'] = pd.to_datetime(user_events['event_dt'])\n",
    "user_events['event_name'] = user_events['event_name'].astype('category')\n",
    "user_events['details'] = user_events['details'].astype('float')\n",
    "user_events.info()"
   ]
  },
  {
   "cell_type": "code",
   "execution_count": null,
   "metadata": {},
   "outputs": [],
   "source": [
    "user_events.describe(include = 'all')"
   ]
  },
  {
   "cell_type": "code",
   "execution_count": null,
   "metadata": {},
   "outputs": [],
   "source": [
    "user_events['event_name'].value_counts()"
   ]
  },
  {
   "cell_type": "code",
   "execution_count": null,
   "metadata": {},
   "outputs": [],
   "source": [
    "#check if missing values in details are connected to event type\n",
    "for event in user_events['event_name'].unique():\n",
    "    event_missing_details = user_events.query('event_name == @event')['details'].isna().sum()\n",
    "    print('Event name: {}. Missing details: {} out of {}.'.format(event, event_missing_details, len(user_events.query('event_name == @event'))))\n",
    "\n",
    "details_stats = user_events['details'].describe()\n",
    "\n",
    "# look at minimum and maximum values of 'details':\n",
    "user_events['details'].describe()"
   ]
  },
  {
   "cell_type": "code",
   "execution_count": null,
   "metadata": {},
   "outputs": [],
   "source": [
    "# fill missing values with 0\n",
    "user_events['details'] = user_events['details'].fillna(0)"
   ]
  },
  {
   "cell_type": "markdown",
   "metadata": {},
   "source": [
    "There are 363447 missing values in the details column. However details is only for additional info on the event_name which is specifically the amount of purchase if the event_name is purchase. As there are only 60,314 users who made a purchase, there are only 60,314 records with values in the details column.The dates satify the test duration period."
   ]
  },
  {
   "cell_type": "markdown",
   "metadata": {},
   "source": [
    "### Participants"
   ]
  },
  {
   "cell_type": "code",
   "execution_count": null,
   "metadata": {},
   "outputs": [],
   "source": [
    "participants.isnull().sum()"
   ]
  },
  {
   "cell_type": "code",
   "execution_count": null,
   "metadata": {},
   "outputs": [],
   "source": [
    "participants.head(2)"
   ]
  },
  {
   "cell_type": "code",
   "execution_count": null,
   "metadata": {},
   "outputs": [],
   "source": [
    "participants.describe(include='all')"
   ]
  },
  {
   "cell_type": "code",
   "execution_count": null,
   "metadata": {},
   "outputs": [],
   "source": [
    "participants['group'].value_counts()"
   ]
  },
  {
   "cell_type": "code",
   "execution_count": null,
   "metadata": {},
   "outputs": [],
   "source": [
    "participants['ab_test'].value_counts()"
   ]
  },
  {
   "cell_type": "code",
   "execution_count": null,
   "metadata": {},
   "outputs": [],
   "source": [
    "participants['user_id'].duplicated().sum()"
   ]
  },
  {
   "cell_type": "code",
   "execution_count": null,
   "metadata": {},
   "outputs": [],
   "source": [
    "duplicated_user = participants[participants.duplicated(subset=['user_id'], keep=False)].sort_values(by=['user_id', 'ab_test']).reset_index(drop=True)\n",
    "duplicated_user"
   ]
  },
  {
   "cell_type": "code",
   "execution_count": null,
   "metadata": {},
   "outputs": [],
   "source": [
    "# create separate dataframes for each AB test group\n",
    "interface_eu = participants[participants['ab_test'] == 'interface_eu_test']\n",
    "recommender_system = participants[participants['ab_test'] == 'recommender_system_test']\n",
    "\n",
    "# count the number of duplicate users in each group\n",
    "interface_eu_duplicates = interface_eu['user_id'].duplicated().sum()\n",
    "recommender_system_duplicates = recommender_system['user_id'].duplicated().sum()\n",
    "\n",
    "# print the results\n",
    "print(\"There are {} duplicate users in interface_eu_test participants\".format(interface_eu_duplicates))\n",
    "print(\"There are {} duplicate users in recommender_system_test participants\".format(recommender_system_duplicates))"
   ]
  },
  {
   "cell_type": "markdown",
   "metadata": {},
   "source": [
    "* The participants dataset contains 887 duplicate user_ids, which are users who participated in both the interface_eu_test and the recommender_system_test. However, there are no duplicate user_ids within the participants of each individual test.\n",
    "* The actual number of participants in the recommender_system_test is only 3675, which falls short of the expected number. The number of participants in the recommender_system_test is lower than the expected number of 6000 participants based on the technical description. The technical description stated that the audience should be 15% of new users from the EU region who signed up between 2020-12-07 and 2020-12-21, and the date when they stopped taking up new users is 2020-12-21. "
   ]
  },
  {
   "cell_type": "markdown",
   "metadata": {},
   "source": [
    "#### DataPreprocessing"
   ]
  },
  {
   "cell_type": "code",
   "execution_count": null,
   "metadata": {},
   "outputs": [],
   "source": [
    "new_eu_users = users[(users['region'] == 'EU') & (users['first_date'] >= '2020-12-07') & (users['first_date'] <= '2020-12-21')]\n",
    "new_eu_users"
   ]
  },
  {
   "cell_type": "code",
   "execution_count": null,
   "metadata": {},
   "outputs": [],
   "source": [
    "interface_eu_participants = participants[participants['ab_test'] == 'interface_eu_test']\n",
    "interface_eu.describe(include = 'all')"
   ]
  },
  {
   "cell_type": "markdown",
   "metadata": {},
   "source": [
    "The interface_eu df include only records whose user_id is in new_eu_users user_id column."
   ]
  },
  {
   "cell_type": "code",
   "execution_count": null,
   "metadata": {},
   "outputs": [],
   "source": [
    "new_eu_users = users.loc[(users['region'] == 'EU') & (users['first_date'] <= '2020-12-21')]\n",
    "print('There are {} new users who are from the EU region and signup date is between 2020-12-07 and 2020-12-21'.format(len(new_eu_users)))\n",
    "\n",
    "interface_eu = interface_eu[interface_eu['user_id'].isin(new_eu_users['user_id'])]\n",
    "interface_eu.describe(include='all')"
   ]
  },
  {
   "cell_type": "markdown",
   "metadata": {},
   "source": [
    "The number of new users from the EU region who signed up between 2020-12-07 and 2020-12-21 is 39466, out of which the required audience for the test is 15%, equivalent to 5919 users. The expected number of test participants is 6000. However, the total number of test participants in interface_eu_test is 9848, which represents approximately 25% of the required audience."
   ]
  },
  {
   "cell_type": "code",
   "execution_count": null,
   "metadata": {},
   "outputs": [],
   "source": [
    "interface_eu['group'].value_counts()"
   ]
  },
  {
   "cell_type": "code",
   "execution_count": null,
   "metadata": {},
   "outputs": [],
   "source": [
    "#Finding the proportion of participants in each group(A and B) for 'interface_eu'\n",
    "group_a = interface_eu[interface_eu['group'] == 'A']\n",
    "group_b = interface_eu[interface_eu['group'] == 'B']\n",
    "\n",
    "pro_group_a = len(group_a) / len(interface_eu)\n",
    "pro_group_b = len(group_b) / len(interface_eu)\n",
    "\n",
    "print('The proportion of Group A to total participants is {:.2f}'.format(pro_group_a))\n",
    "print('The proportion of Group B to total participants is {:.2f}'.format(pro_group_b))"
   ]
  },
  {
   "cell_type": "markdown",
   "metadata": {},
   "source": [
    "The proportions of users from group A and B are almost equal."
   ]
  },
  {
   "cell_type": "code",
   "execution_count": null,
   "metadata": {},
   "outputs": [],
   "source": [
    "user_events['event_date'] = pd.to_datetime(user_events['event_dt'].dt.date)\n",
    "user_events"
   ]
  },
  {
   "cell_type": "code",
   "execution_count": null,
   "metadata": {
    "scrolled": true
   },
   "outputs": [],
   "source": [
    "#Left join user_events df to interface_eu df\n",
    "interface_eu_events = interface_eu.merge(user_events, on='user_id', how='left')\n",
    "interface_eu_events"
   ]
  },
  {
   "cell_type": "code",
   "execution_count": null,
   "metadata": {},
   "outputs": [],
   "source": [
    "interface_eu_events.describe(include = 'all')"
   ]
  },
  {
   "cell_type": "code",
   "execution_count": null,
   "metadata": {},
   "outputs": [],
   "source": [
    "interface_eu_events.to_csv('eu_events.csv')"
   ]
  },
  {
   "cell_type": "code",
   "execution_count": null,
   "metadata": {},
   "outputs": [],
   "source": [
    "#create a dataframe for users participated in recommender_system test\n",
    "recommender_system = participants[participants['ab_test'] == 'recommender_system_test']\n",
    "recommender_system.describe(include = 'all')"
   ]
  },
  {
   "cell_type": "markdown",
   "metadata": {},
   "source": [
    "The recommender_system include only records whose user_id is in new_eu_users , user_id"
   ]
  },
  {
   "cell_type": "code",
   "execution_count": null,
   "metadata": {},
   "outputs": [],
   "source": [
    "recommender_system = recommender_system[recommender_system['user_id'].isin(new_eu_users['user_id'])]\n",
    "recommender_system.describe(include='all')"
   ]
  },
  {
   "cell_type": "code",
   "execution_count": null,
   "metadata": {},
   "outputs": [],
   "source": [
    "recommender_system['group'].value_counts()"
   ]
  },
  {
   "cell_type": "markdown",
   "metadata": {},
   "source": [
    "* The total number of test participants for recommender_system_test, where users are from the EU region and signed up between 2020-12-07 and 2020-12-21, is only 3481, whereas the expected number was 6000. \n",
    "* Additionally, the sample sizes of groups A and B are significantly different, rendering the data inadequate for the test. Therefore, further analysis will only be conducted on interface_eu_test."
   ]
  },
  {
   "cell_type": "code",
   "execution_count": null,
   "metadata": {},
   "outputs": [],
   "source": [
    "#Resolving Discrepancy in Stop Date for New User Sign-Ups\n",
    "# Check the unique values and frequency of the 'first_date' column\n",
    "users['first_date'].value_counts().sort_index()\n"
   ]
  },
  {
   "cell_type": "markdown",
   "metadata": {},
   "source": [
    "The output shows the Unique values and their frequencies in the 'first_date'  column of your dataset. "
   ]
  },
  {
   "cell_type": "code",
   "execution_count": null,
   "metadata": {},
   "outputs": [],
   "source": [
    "import pandas as pd\n",
    "import matplotlib.pyplot as plt\n",
    "# Sample data (replace this with your actual data)\n",
    "data = {\n",
    "    'first_date': ['2020-12-07', '2020-12-08', '2020-12-09', '2020-12-10', '2020-12-11', '2020-12-12', '2020-12-13', '2020-12-14', '2020-12-15', '2020-12-16', '2020-12-17', '2020-12-18', '2020-12-19', '2020-12-20', '2020-12-21', '2020-12-22', '2020-12-23'],\n",
    "    'signups': [5291, 3017, 2010, 2784, 2226, 3591, 4181, 5448, 2924, 2093, 2940, 3238, 3480, 4140, 6077, 3083, 2180]\n",
    "}\n",
    "\n",
    "# Create a DataFrame from the sample data\n",
    "df = pd.DataFrame(data)\n",
    "\n",
    "# Convert 'first_date' column to datetime\n",
    "df['first_date'] = pd.to_datetime(df['first_date'])\n",
    "\n",
    "# Sort the DataFrame by 'first_date' for proper visualization\n",
    "df = df.sort_values(by='first_date')\n",
    "\n",
    "# Create a line plot\n",
    "plt.figure(figsize=(12, 6))\n",
    "plt.plot(df['first_date'], df['signups'], marker='o', linestyle='-', color='b')\n",
    "plt.title('User Sign-Ups Over Time')\n",
    "plt.xlabel('Date')\n",
    "plt.ylabel('Number of Sign-Ups')\n",
    "plt.xticks(rotation=45)\n",
    "plt.grid(True)\n",
    "\n",
    "# Show the plot\n",
    "plt.tight_layout()\n",
    "plt.show()"
   ]
  },
  {
   "cell_type": "markdown",
   "metadata": {},
   "source": [
    "## Exploratory Data Analysis"
   ]
  },
  {
   "cell_type": "markdown",
   "metadata": {},
   "source": [
    "- Study conversion at different funnel stages\n",
    "- Is the number of events per user distributed equally in the samples?\n",
    "- Are there users who enter both samples?\n",
    "- How is the number of events distributed by days?\n",
    "- Think of the possible details in the data that you have to take into account before starting the A/B test?"
   ]
  },
  {
   "cell_type": "markdown",
   "metadata": {},
   "source": [
    "#### Study conversion at different funnel stages"
   ]
  },
  {
   "cell_type": "code",
   "execution_count": null,
   "metadata": {},
   "outputs": [],
   "source": [
    "# Calculate conversions at each stage for each group\n",
    "conversion_funnel = interface_eu_events.pivot_table(index='event_name', \n",
    "                                                     values='user_id', \n",
    "                                                     columns='group', \n",
    "                                                     aggfunc=lambda x: x.nunique()) \\\n",
    "                                         .reset_index()\n",
    "conversion_funnel"
   ]
  },
  {
   "cell_type": "code",
   "execution_count": null,
   "metadata": {},
   "outputs": [],
   "source": [
    "conversion_funnel = conversion_funnel.rename(columns={'event_name': 'funnel_stage', 'A': 'Group A', 'B': 'Group B'})\n",
    "conversion_funnel"
   ]
  },
  {
   "cell_type": "code",
   "execution_count": null,
   "metadata": {},
   "outputs": [],
   "source": [
    "#conversion funnel stages\n",
    "funnel_stages = ['login', 'product_page', 'product_cart', 'purchase']\n",
    "pd.options.display.float_format = '{:.2%}'.format\n",
    "\n",
    "\n",
    "#calculate the total number of users in each group\n",
    "a = len(group_a['user_id'].unique())\n",
    "b = len(group_b['user_id'].unique())\n",
    "\n",
    "conversion_rates = {'stage': funnel_stages}\n",
    "\n",
    "conversion_funnel['conversion_rate_a'] = conversion_funnel['Group A'] / a \n",
    "conversion_funnel['conversion_rate_b'] = conversion_funnel['Group B'] / b\n",
    "\n",
    "#calculating the difference of conversions at each stage\n",
    "conversion_funnel['increase/decrease'] = (conversion_funnel['Group B'] - conversion_funnel['Group A']) / conversion_funnel['Group A']\n",
    "\n",
    "\n",
    "cols = ['funnel_stage', 'Group A', 'conversion_rate_a', 'Group B', 'conversion_rate_b', 'increase/decrease']\n",
    "conversion_funnel = conversion_funnel[cols]\n",
    "\n",
    "conversion_funnel"
   ]
  },
  {
   "cell_type": "markdown",
   "metadata": {},
   "source": [
    "* For group A, the number of conversions in the purchase stage is higher than that in the product_cart stage. This suggests that some users may have proceeded directly to the purchase stage without adding the product to their cart.\n",
    "* At the product_page and purchase funnel stages, the conversion for group A is actually higher than group B, which means there is no decrease in conversion.\n",
    "* The product_cart stage, the conversion from group B shows a very small increase of 2.24%\n",
    "* The expected result of obtaining at least a 10% increase in conversion rate at each of the funnel stages was not achieved based on the funnel analysis."
   ]
  },
  {
   "cell_type": "markdown",
   "metadata": {},
   "source": [
    "##### - Is the number of events per user distributed equally in the samples?"
   ]
  },
  {
   "cell_type": "code",
   "execution_count": null,
   "metadata": {},
   "outputs": [],
   "source": [
    "mean_events_a = interface_eu_events[interface_eu_events['group'] == 'A'].groupby('user_id')['event_name'].count().mean()\n",
    "std_events_a = interface_eu_events[interface_eu_events['group'] == 'A'].groupby('user_id')['event_name'].count().std()\n",
    "\n",
    "mean_events_b = interface_eu_events[interface_eu_events['group'] == 'B'].groupby('user_id')['event_name'].count().mean()\n",
    "std_events_b = interface_eu_events[interface_eu_events['group'] == 'B'].groupby('user_id')['event_name'].count().std()\n",
    "\n",
    "print(\"Group A: mean = {:.2f}, std = {:.2f}\".format(mean_events_a, std_events_a))\n",
    "print(\"Group B: mean = {:.2f}, std = {:.2f}\".format(mean_events_b, std_events_b))"
   ]
  },
  {
   "cell_type": "code",
   "execution_count": null,
   "metadata": {},
   "outputs": [],
   "source": [
    "# group A\n",
    "events_a = interface_eu_events[interface_eu_events['group'] == 'A'].groupby('user_id')['event_name'].count()\n",
    "plt.hist(events_a, bins=20, alpha=0.5, label='Group A')\n",
    "\n",
    "# group B\n",
    "events_b = interface_eu_events[interface_eu_events['group'] == 'B'].groupby('user_id')['event_name'].count()\n",
    "plt.hist(events_b, bins=20, alpha=0.5, label='Group B')\n",
    "\n",
    "plt.xlabel('Number of Events per User')\n",
    "plt.ylabel('Count')\n",
    "plt.legend(loc='upper right')\n",
    "\n",
    "plt.show()"
   ]
  },
  {
   "cell_type": "markdown",
   "metadata": {},
   "source": [
    "It shows that the number of events per user distributed almost equally for groups A and B."
   ]
  },
  {
   "cell_type": "markdown",
   "metadata": {},
   "source": [
    "##### Are there users who enter both samples? "
   ]
  },
  {
   "cell_type": "code",
   "execution_count": null,
   "metadata": {},
   "outputs": [],
   "source": [
    "interface_eu_events.groupby(['user_id'])['group'].nunique().value_counts()"
   ]
  },
  {
   "cell_type": "code",
   "execution_count": null,
   "metadata": {},
   "outputs": [],
   "source": [
    "#user_id's for both samples\n",
    "users_a = set(interface_eu_events[interface_eu_events['group'] == 'A']['user_id'])\n",
    "users_b = set(interface_eu_events[interface_eu_events['group'] == 'B']['user_id'])\n",
    "\n",
    "#the intersection of the two sets of user_ids\n",
    "users_both = users_a.intersection(users_b)\n",
    "\n",
    "print(f\"There are {len(users_both)} users who appear in both samples.\")"
   ]
  },
  {
   "cell_type": "markdown",
   "metadata": {},
   "source": [
    "There are no users participated in both groups"
   ]
  },
  {
   "cell_type": "markdown",
   "metadata": {},
   "source": [
    "##### How is the number of events distributed by days?"
   ]
  },
  {
   "cell_type": "code",
   "execution_count": null,
   "metadata": {},
   "outputs": [],
   "source": [
    "g =interface_eu_events.groupby(['event_date'])['event_name'].count().plot(kind='bar', x='event_date', figsize=[15,10])\n",
    "\n",
    "plt.title('Distribution of Number of Events by Date', fontsize=20)\n",
    "plt.xlabel('Dates', fontsize=15)\n",
    "plt.ylabel('Number of Events', fontsize=15)\n",
    "\n",
    "g.bar_label(g.containers[0])\n",
    "plt.xticks(rotation=75);"
   ]
  },
  {
   "cell_type": "markdown",
   "metadata": {},
   "source": [
    "Based on the data for new users who signed up between 2020-12-07 and 2020-12-21, it appears that there was a positive response. Event activity began to increase as early as 2020-12-12 and continued until 2020-12-23."
   ]
  },
  {
   "cell_type": "markdown",
   "metadata": {},
   "source": [
    "####  Think of the possible details in the data that you have to take into account before starting the A/B test?\n",
    "* Neither group has any users who participated in both groups.\n",
    "* The number of users is almost the same size.\n",
    "* The number of events is almost equally distributed.\n",
    "* All the users are from the EU and their signup dates are between 2020-1207 and 2020-12-21.\n",
    "* The dates of events are between 2020-12-07 and 2021-01-01."
   ]
  },
  {
   "cell_type": "markdown",
   "metadata": {},
   "source": [
    "##### Evaluate the A/B test results"
   ]
  },
  {
   "cell_type": "markdown",
   "metadata": {},
   "source": [
    "###### What can you tell about the A/B test results?\n",
    "  Assuming that the participants were chosen randomly, there are still potential biases in this A/B     test. \n",
    "* The test was only conducted for users from the EU region, which may not accurately reflect the    population of interest for an international online store unless the e-commerce website of the store has independent websites for each continent and that the new recommendation system is only for the EU webpage.\n",
    "\n",
    "* The test was conducted during a holiday season, specifically between 2020-12-07 and 2021-01-01, which is known to have a surge in purchases due to the holiday season. Therefore, it is possible that the increase in conversions is not solely due to the new webpage design or the new recommendation system, but also due to the holiday season or other factors such as the Christmas and New Year promo running in the EU region from 2020-12-25 until 2021-01-03.\n",
    "\n",
    "* To obtain a more accurate picture of the impact of the new design and recommendation system, it is recommended to conduct another test during regular days when users will have different spending behavior."
   ]
  },
  {
   "cell_type": "markdown",
   "metadata": {},
   "source": [
    "###### Use the z-criterion to check the statistical difference between the proportions.\n",
    "- The z-criterion test used to determine whether there is a significant difference between two     proportions in A/B testing. It compares the proportion of successes between two groups and calculates the z-score and corresponding p-value.\n",
    "- We use the proportions_ztest function from the statsmodels library in python to calculate the z-score and p-value. The syntax is z_score, p_value = proportions_ztest(count, nobs, alternative='larger')\n",
    "- The next step is to make a decision to reject or fail to reject the null hypothesis based on comparing the two values:\n",
    "   * We then compare the z-score to the critical value at 95% for one-tailed test, the critical value is 1.645, and for a two-tailed test it is 1.960. \n",
    "   * If the z-score is greater than the critical value, we reject the null hypothesis."
   ]
  },
  {
   "cell_type": "markdown",
   "metadata": {},
   "source": [
    "##### Perform z_test for each stage\n",
    "* To perform a two-sample z_test for each event, we can use the proportions_ztest() function from statsmodels.stats.proportion module.\n",
    "* $H_0: (p_B \\leq p_A)$ The proportion of conversion of treatment group(B) is equal or less than the control group (A)\n",
    "* $H_1 : p_{B} > p_{A}$ The proportion of conversion of treatment group(B) is greater than the control group (A)"
   ]
  },
  {
   "cell_type": "code",
   "execution_count": null,
   "metadata": {},
   "outputs": [],
   "source": [
    "conversion_funnel"
   ]
  },
  {
   "cell_type": "code",
   "execution_count": null,
   "metadata": {},
   "outputs": [],
   "source": [
    "interface_eu_events"
   ]
  },
  {
   "cell_type": "code",
   "execution_count": null,
   "metadata": {},
   "outputs": [],
   "source": [
    "#Z-test for product_page \n",
    "# filter the data for the product page\n",
    "product_page_data = conversion_funnel[conversion_funnel['funnel_stage'] == 'product_page']\n",
    "\n",
    "# number of conversions for group A and group B\n",
    "conv_a = product_page_data['Group A'].sum()\n",
    "conv_b = product_page_data['Group B'].sum()\n",
    "\n",
    "# number of trials in Group A and Group B\n",
    "num_group_a = interface_eu_events[interface_eu_events['group'] == 'A']['user_id'].nunique()\n",
    "num_group_b = interface_eu_events[interface_eu_events['group'] == 'B']['user_id'].nunique()\n",
    "\n",
    "print(\"The number of conversions for product_page in Group A, Group B:\",conv_a, '&', conv_b)\n",
    "print(\"The number of trails for product_page in Group A, Group B:\",num_group_a, '&', num_group_b)"
   ]
  },
  {
   "cell_type": "code",
   "execution_count": null,
   "metadata": {},
   "outputs": [],
   "source": [
    " # calculate the z-score and p-value\n",
    "z_score, p_value = sm.stats.proportions_ztest([conv_b, conv_a], [num_group_b, num_group_a], alternative='larger')\n",
    "\n",
    "print(\"z_score: {:.4f}\".format(z_score))\n",
    "print(\"p_value: {:.4f}\".format(p_value))\n",
    "\n",
    "#decision\n",
    "if z_score > 1.645  and p_value < 0.05:\n",
    "    print('We reject the null hypothesis')\n",
    "else:\n",
    "    print('We fail to reject the null hypotheis')\n"
   ]
  },
  {
   "cell_type": "markdown",
   "metadata": {},
   "source": [
    "* we reject the null hypothesis if z_score > $Z_{\\alpha}$.\n",
    "* $Z_{\\alpha}$ or $Z_{0.05}$ known as critical value at 95% confidence interval is 1.645 for **one-tailed test.** For right tailed test , we reject the null hypothesis  if z_score > $Z_{\\alpha}$.\n",
    "* Our z_score is -0.9740 which is less than $Z_{\\alpha}$ of 1.645. Our p_value of 0.8350 is greater than alpha of 0.05\n",
    "* Based on the result we **fail to reject the null hypothesis**. Therefore, we do not have enough evidence to support the claim that the new and improved recommendation system drives more conversions than the old one."
   ]
  },
  {
   "cell_type": "code",
   "execution_count": null,
   "metadata": {},
   "outputs": [],
   "source": [
    "#Z-test for product_cart\n",
    "# filter the data for the product page\n",
    "product_cart_data = conversion_funnel[conversion_funnel['funnel_stage'] == 'product_cart']\n",
    "\n",
    "# number of conversions for group A and group B\n",
    "conv_a = product_cart_data['Group A'].sum()\n",
    "conv_b = product_cart_data['Group B'].sum()\n",
    "\n",
    "# number of trials in Group A and Group B\n",
    "num_group_a = interface_eu_events[interface_eu_events['group'] == 'A']['user_id'].nunique()\n",
    "num_group_b = interface_eu_events[interface_eu_events['group'] == 'B']['user_id'].nunique()\n",
    "\n",
    "print(\"The number of conversions for product_cart in Group A, Group B:\",conv_a, '&', conv_b)\n",
    "print(\"The number of trails for product_cart in Group A, Group B:\",num_group_a, '&', num_group_b)"
   ]
  },
  {
   "cell_type": "code",
   "execution_count": null,
   "metadata": {},
   "outputs": [],
   "source": [
    "# calculate the z-score and p-value\n",
    "z_score, p_value = sm.stats.proportions_ztest([conv_b, conv_a], [num_group_b, num_group_a], alternative='larger')\n",
    "\n",
    "print(\"z_score: {:.4f}\".format(z_score))\n",
    "print(\"p_value: {:.4f}\".format(p_value))\n",
    "\n",
    "#decision\n",
    "if z_score > 1.645  and p_value < 0.05:\n",
    "    print('We reject the null hypothesis')\n",
    "else:\n",
    "    print('We fail to reject the null hypotheis')"
   ]
  },
  {
   "cell_type": "markdown",
   "metadata": {},
   "source": [
    "* We reject the null hypothesis if z_score > $Z_{\\alpha}$.\n",
    "* Our z_score is 1.5352 which is less than $Z_{\\alpha}$ of 1.645. Our p_value of 0.0624 is greater than alpha of 0.05\n",
    "* Based on the result we **fail to reject the null hypothesis**. Therefore, we do not have enough evidence to support the claim that the new and improved recommendation system drives more conversions than the old one."
   ]
  },
  {
   "cell_type": "code",
   "execution_count": null,
   "metadata": {},
   "outputs": [],
   "source": [
    "#Z-test for purchase\n",
    "# filter the data for the product page\n",
    "purchase_data = conversion_funnel[conversion_funnel['funnel_stage'] == 'purchase']\n",
    "\n",
    "# number of conversions for group A and group B\n",
    "conv_a = purchase_data['Group A'].sum()\n",
    "conv_b = purchase_data['Group B'].sum()\n",
    "\n",
    "# number of trials in Group A and Group B\n",
    "num_group_a = interface_eu_events[interface_eu_events['group'] == 'A']['user_id'].nunique()\n",
    "num_group_b = interface_eu_events[interface_eu_events['group'] == 'B']['user_id'].nunique()\n",
    "\n",
    "print(\"The number of conversions for purchase_data in Group A, Group B:\",conv_a, '&', conv_b)\n",
    "print(\"The number of trails for purchase_data in Group A, Group B:\",num_group_a, '&', num_group_b)"
   ]
  },
  {
   "cell_type": "code",
   "execution_count": null,
   "metadata": {},
   "outputs": [],
   "source": [
    "# calculate the z-score and p-value\n",
    "z_score, p_value = sm.stats.proportions_ztest([conv_b, conv_a], [num_group_b, num_group_a], alternative='larger')\n",
    "\n",
    "print(\"z_score: {:.4f}\".format(z_score))\n",
    "print(\"p_value: {:.4f}\".format(p_value))\n",
    "\n",
    "#decision\n",
    "if z_score > 1.645  and p_value < 0.05:\n",
    "    print('We reject the null hypothesis')\n",
    "else:\n",
    "\n",
    "    print('We fail to reject the null hypotheis')"
   ]
  },
  {
   "cell_type": "markdown",
   "metadata": {},
   "source": [
    "* we reject the null hypothesis if z_score > $Z_{\\alpha}$.\n",
    "* Our z_score is -2.4652 which is less than $Z_{\\alpha}$ of 1.645. Our p_value of 0.9932 is greater than alpha of 0.05\n",
    "* Based on the result we **fail to reject the null hypothesis**. Therefore, we do not have enough evidence to support the claim that the new and improved recommendation system drives more conversions than the old one."
   ]
  },
  {
   "cell_type": "markdown",
   "metadata": {},
   "source": [
    "## Conclusions"
   ]
  },
  {
   "cell_type": "markdown",
   "metadata": {},
   "source": [
    "#### Exploratory Data Analysis"
   ]
  },
  {
   "cell_type": "markdown",
   "metadata": {},
   "source": [
    "- I performed EDA on a preprocessed data where the participants met the following technical requirements:\n",
    "     * The participants are all from the EU region.\n",
    "     * The participants are new users whose sign up dates are between 2020-12-07 and 2020-12-21.\n",
    "     * The dates of the events are between 2020-12-07 and 2021-01-01.\n",
    "- In the conversion funnel analysis, it shows that the expected result of getting at least 10% of increase in conversion at each of the 3 stages (product_page, product_cart, and purchase) are not met.\n",
    "- The number of events per user is distributed almost equally for groups A and B.\n",
    "- There are no users who participated in both groups.\n",
    "- The number of events is distributed almost equally.\n",
    "- Considering that these events are from new users who sign up between 2020-12-07 and 2020-12-21, I can say that there is a good response. The events started to pick up as early as 2020-12-12 until 2020-12-23."
   ]
  },
  {
   "cell_type": "markdown",
   "metadata": {},
   "source": [
    "#### A/B Test Results"
   ]
  },
  {
   "cell_type": "markdown",
   "metadata": {},
   "source": [
    "-  The test only includes users from the EU region, which may not accurately represent the international online store's population of interest unless the store has independent websites for each continent and the new recommendation system is only for the EU webpage.\n",
    "-  The test was conducted during the Christmas holiday season, where there is typically a surge in purchases, making it difficult to determine the impact of the new webpage design or recommendation system.\n",
    "-  There was a Christmas and New Year promo running in the EU region from 2020-12-25 until 2021-01-03, which may have influenced user behavior during the test period.\n",
    "-  It is recommended to conduct another test during regular days to observe users' typical spending behavior without any external factors."
   ]
  },
  {
   "cell_type": "markdown",
   "metadata": {},
   "source": [
    "#### z-test"
   ]
  },
  {
   "cell_type": "markdown",
   "metadata": {},
   "source": [
    "-  A two-sample z-test was performed to determine if there is a statistical difference between the two proportions.\n",
    "-  $H_0: (p_B \\leq p_A)$ The null hypothesis was that the proportion of conversions in treatment group (B) is equal to or less than the control group (A).\n",
    "-  $H_1 : p_{B} > p_{A}$ The alternative hypothesis was that the proportion of conversions in treatment group (B) is greater than the control group (A).\n",
    "- Based on the result of the z-test, we fail to reject the null hypothesis.\n",
    "- This indicates that there is no evidence to suggest that the new recommendation system drives more conversions than the old one."
   ]
  },
  {
   "cell_type": "markdown",
   "metadata": {},
   "source": [
    "#### Recommendation"
   ]
  },
  {
   "cell_type": "markdown",
   "metadata": {},
   "source": [
    "- Clarifications are needed for the technical description as some parts do not match with the given     data:\n",
    "     \n",
    "  * It is recommended to conduct another test during regular days to observe user behavior and            eliminate the effects of holiday season spending.\n",
    "  * Random selection of participants from different regions is recommended to better represent the        international user base of the online store.\n",
    "  * The technical description names the test as \"recommender_system_test,\" but the dataset for            nterface_eu_system satisfies the technical specifications.\n",
    "  *  The technical description refers to groups A (control) and B (new payment funnel), but also           mentions testing changes related to an improved recommendation system. This creates confusion         about the specific changes being tested. It is possible that there is a mistake in the               technical details or that they have not yet been updated. Clarification is needed on this             point."
   ]
  },
  {
   "cell_type": "code",
   "execution_count": null,
   "metadata": {},
   "outputs": [],
   "source": []
  },
  {
   "cell_type": "code",
   "execution_count": null,
   "metadata": {},
   "outputs": [],
   "source": []
  },
  {
   "cell_type": "code",
   "execution_count": null,
   "metadata": {},
   "outputs": [],
   "source": []
  },
  {
   "cell_type": "code",
   "execution_count": null,
   "metadata": {},
   "outputs": [],
   "source": []
  },
  {
   "cell_type": "code",
   "execution_count": null,
   "metadata": {},
   "outputs": [],
   "source": []
  },
  {
   "cell_type": "code",
   "execution_count": null,
   "metadata": {},
   "outputs": [],
   "source": []
  },
  {
   "cell_type": "code",
   "execution_count": null,
   "metadata": {},
   "outputs": [],
   "source": []
  },
  {
   "cell_type": "code",
   "execution_count": null,
   "metadata": {},
   "outputs": [],
   "source": []
  },
  {
   "cell_type": "code",
   "execution_count": null,
   "metadata": {},
   "outputs": [],
   "source": []
  },
  {
   "cell_type": "code",
   "execution_count": null,
   "metadata": {},
   "outputs": [],
   "source": []
  },
  {
   "cell_type": "code",
   "execution_count": null,
   "metadata": {},
   "outputs": [],
   "source": []
  },
  {
   "cell_type": "code",
   "execution_count": null,
   "metadata": {},
   "outputs": [],
   "source": []
  },
  {
   "cell_type": "code",
   "execution_count": null,
   "metadata": {},
   "outputs": [],
   "source": []
  },
  {
   "cell_type": "code",
   "execution_count": null,
   "metadata": {},
   "outputs": [],
   "source": []
  },
  {
   "cell_type": "code",
   "execution_count": null,
   "metadata": {},
   "outputs": [],
   "source": []
  },
  {
   "cell_type": "code",
   "execution_count": null,
   "metadata": {},
   "outputs": [],
   "source": []
  },
  {
   "cell_type": "code",
   "execution_count": null,
   "metadata": {},
   "outputs": [],
   "source": []
  },
  {
   "cell_type": "code",
   "execution_count": null,
   "metadata": {},
   "outputs": [],
   "source": []
  },
  {
   "cell_type": "code",
   "execution_count": null,
   "metadata": {},
   "outputs": [],
   "source": []
  }
 ],
 "metadata": {
  "kernelspec": {
   "display_name": "Python 3",
   "language": "python",
   "name": "python3"
  },
  "language_info": {
   "codemirror_mode": {
    "name": "ipython",
    "version": 3
   },
   "file_extension": ".py",
   "mimetype": "text/x-python",
   "name": "python",
   "nbconvert_exporter": "python",
   "pygments_lexer": "ipython3",
   "version": "3.8.5"
  }
 },
 "nbformat": 4,
 "nbformat_minor": 4
}
